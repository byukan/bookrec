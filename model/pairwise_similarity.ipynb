{
 "cells": [
  {
   "cell_type": "markdown",
   "metadata": {},
   "source": [
    "# Calculating Similarity\n",
    "\n",
    "create some transformer embedded vectors, then use a cosine similarity"
   ]
  },
  {
   "cell_type": "code",
   "execution_count": 7,
   "metadata": {},
   "outputs": [
    {
     "data": {
      "text/html": [
       "<div>\n",
       "<style scoped>\n",
       "    .dataframe tbody tr th:only-of-type {\n",
       "        vertical-align: middle;\n",
       "    }\n",
       "\n",
       "    .dataframe tbody tr th {\n",
       "        vertical-align: top;\n",
       "    }\n",
       "\n",
       "    .dataframe thead th {\n",
       "        text-align: right;\n",
       "    }\n",
       "</style>\n",
       "<table border=\"1\" class=\"dataframe\">\n",
       "  <thead>\n",
       "    <tr style=\"text-align: right;\">\n",
       "      <th></th>\n",
       "      <th>Series_Title</th>\n",
       "      <th>Overview</th>\n",
       "    </tr>\n",
       "  </thead>\n",
       "  <tbody>\n",
       "    <tr>\n",
       "      <th>0</th>\n",
       "      <td>The Shawshank Redemption</td>\n",
       "      <td>Two imprisoned men bond over a number of years, finding solace and eventual redemption through acts of common decency.</td>\n",
       "    </tr>\n",
       "    <tr>\n",
       "      <th>1</th>\n",
       "      <td>The Godfather</td>\n",
       "      <td>An organized crime dynasty's aging patriarch transfers control of his clandestine empire to his reluctant son.</td>\n",
       "    </tr>\n",
       "    <tr>\n",
       "      <th>2</th>\n",
       "      <td>The Dark Knight</td>\n",
       "      <td>When the menace known as the Joker wreaks havoc and chaos on the people of Gotham, Batman must accept one of the greatest psychological and physical tests of his ability to fight injustice.</td>\n",
       "    </tr>\n",
       "    <tr>\n",
       "      <th>3</th>\n",
       "      <td>The Godfather: Part II</td>\n",
       "      <td>The early life and career of Vito Corleone in 1920s New York City is portrayed, while his son, Michael, expands and tightens his grip on the family crime syndicate.</td>\n",
       "    </tr>\n",
       "    <tr>\n",
       "      <th>4</th>\n",
       "      <td>12 Angry Men</td>\n",
       "      <td>A jury holdout attempts to prevent a miscarriage of justice by forcing his colleagues to reconsider the evidence.</td>\n",
       "    </tr>\n",
       "    <tr>\n",
       "      <th>5</th>\n",
       "      <td>The Lord of the Rings: The Return of the King</td>\n",
       "      <td>Gandalf and Aragorn lead the World of Men against Sauron's army to draw his gaze from Frodo and Sam as they approach Mount Doom with the One Ring.</td>\n",
       "    </tr>\n",
       "    <tr>\n",
       "      <th>6</th>\n",
       "      <td>Pulp Fiction</td>\n",
       "      <td>The lives of two mob hitmen, a boxer, a gangster and his wife, and a pair of diner bandits intertwine in four tales of violence and redemption.</td>\n",
       "    </tr>\n",
       "    <tr>\n",
       "      <th>7</th>\n",
       "      <td>Schindler's List</td>\n",
       "      <td>In German-occupied Poland during World War II, industrialist Oskar Schindler gradually becomes concerned for his Jewish workforce after witnessing their persecution by the Nazis.</td>\n",
       "    </tr>\n",
       "    <tr>\n",
       "      <th>8</th>\n",
       "      <td>Inception</td>\n",
       "      <td>A thief who steals corporate secrets through the use of dream-sharing technology is given the inverse task of planting an idea into the mind of a C.E.O.</td>\n",
       "    </tr>\n",
       "    <tr>\n",
       "      <th>9</th>\n",
       "      <td>Fight Club</td>\n",
       "      <td>An insomniac office worker and a devil-may-care soapmaker form an underground fight club that evolves into something much, much more.</td>\n",
       "    </tr>\n",
       "  </tbody>\n",
       "</table>\n",
       "</div>"
      ],
      "text/plain": [
       "                                    Series_Title  \\\n",
       "0                       The Shawshank Redemption   \n",
       "1                                  The Godfather   \n",
       "2                                The Dark Knight   \n",
       "3                         The Godfather: Part II   \n",
       "4                                   12 Angry Men   \n",
       "5  The Lord of the Rings: The Return of the King   \n",
       "6                                   Pulp Fiction   \n",
       "7                               Schindler's List   \n",
       "8                                      Inception   \n",
       "9                                     Fight Club   \n",
       "\n",
       "                                                                                                                                                                                        Overview  \n",
       "0                                                                         Two imprisoned men bond over a number of years, finding solace and eventual redemption through acts of common decency.  \n",
       "1                                                                                 An organized crime dynasty's aging patriarch transfers control of his clandestine empire to his reluctant son.  \n",
       "2  When the menace known as the Joker wreaks havoc and chaos on the people of Gotham, Batman must accept one of the greatest psychological and physical tests of his ability to fight injustice.  \n",
       "3                           The early life and career of Vito Corleone in 1920s New York City is portrayed, while his son, Michael, expands and tightens his grip on the family crime syndicate.  \n",
       "4                                                                              A jury holdout attempts to prevent a miscarriage of justice by forcing his colleagues to reconsider the evidence.  \n",
       "5                                             Gandalf and Aragorn lead the World of Men against Sauron's army to draw his gaze from Frodo and Sam as they approach Mount Doom with the One Ring.  \n",
       "6                                                The lives of two mob hitmen, a boxer, a gangster and his wife, and a pair of diner bandits intertwine in four tales of violence and redemption.  \n",
       "7             In German-occupied Poland during World War II, industrialist Oskar Schindler gradually becomes concerned for his Jewish workforce after witnessing their persecution by the Nazis.  \n",
       "8                                       A thief who steals corporate secrets through the use of dream-sharing technology is given the inverse task of planting an idea into the mind of a C.E.O.  \n",
       "9                                                          An insomniac office worker and a devil-may-care soapmaker form an underground fight club that evolves into something much, much more.  "
      ]
     },
     "execution_count": 7,
     "metadata": {},
     "output_type": "execute_result"
    }
   ],
   "source": [
    "import h\n",
    "import pandas as pd\n",
    "pd.set_option('display.max_colwidth', None)\n",
    "# use movies dataset\n",
    "df = pd.read_csv('../data/imdb_top_1000.csv').head(10)\n",
    "df[['Series_Title', 'Overview']].head(10)"
   ]
  },
  {
   "cell_type": "code",
   "execution_count": 8,
   "metadata": {},
   "outputs": [
    {
     "data": {
      "text/plain": [
       "[(0, 1.0000001),\n",
       " (1, 0.4928239),\n",
       " (4, 0.467444),\n",
       " (3, 0.46335307),\n",
       " (6, 0.41063976),\n",
       " (7, 0.40971285),\n",
       " (9, 0.34242103),\n",
       " (2, 0.30824685),\n",
       " (5, 0.30730802),\n",
       " (8, 0.29844344)]"
      ]
     },
     "execution_count": 8,
     "metadata": {},
     "output_type": "execute_result"
    }
   ],
   "source": [
    "sentences = df['Overview']\n",
    "h.compute_similarity(0, sentences)"
   ]
  },
  {
   "cell_type": "code",
   "execution_count": 9,
   "metadata": {},
   "outputs": [],
   "source": [
    "df['similar_movies'] = pd.Series(df.index).apply(lambda x: h.compute_similarity(x, df['Overview']))"
   ]
  },
  {
   "cell_type": "code",
   "execution_count": 10,
   "metadata": {},
   "outputs": [
    {
     "data": {
      "text/plain": [
       "0    [(0, 1.0000001), (1, 0.4928239), (4, 0.467444), (3, 0.46335307), (6, 0.41063976), (7, 0.40971285), (9, 0.34242103), (2, 0.30824685), (5, 0.30730802), (8, 0.29844344)]\n",
       "1       [(1, 0.99999976), (3, 0.7701522), (8, 0.676445), (6, 0.67529726), (7, 0.6281686), (5, 0.62241954), (2, 0.6100604), (9, 0.60601383), (4, 0.5875503), (0, 0.4928239)]\n",
       "2    [(2, 0.99999994), (5, 0.65540165), (8, 0.63496965), (1, 0.6100604), (6, 0.6100281), (7, 0.60443854), (9, 0.59816897), (4, 0.5542958), (3, 0.5406076), (0, 0.30824685)]\n",
       "3             [(3, 1.0), (1, 0.7701522), (6, 0.6715621), (8, 0.572134), (7, 0.56157357), (9, 0.55159676), (2, 0.5406076), (5, 0.4700809), (0, 0.46335307), (4, 0.42049283)]\n",
       "4        [(4, 0.99999994), (1, 0.5875503), (7, 0.5736774), (2, 0.5542958), (8, 0.54481447), (5, 0.5134586), (9, 0.4947331), (6, 0.4812011), (0, 0.467444), (3, 0.42049283)]\n",
       "5    [(5, 0.99999994), (2, 0.65540165), (1, 0.62241954), (6, 0.5511594), (9, 0.5305929), (7, 0.51582533), (4, 0.5134586), (8, 0.50444025), (3, 0.4700809), (0, 0.30730802)]\n",
       "6      [(6, 1.0000001), (9, 0.69208443), (1, 0.67529726), (3, 0.6715621), (8, 0.64956856), (2, 0.6100281), (7, 0.5940193), (5, 0.5511594), (4, 0.4812011), (0, 0.41063976)]\n",
       "7     [(7, 0.99999994), (9, 0.6414438), (1, 0.6281686), (2, 0.60443854), (6, 0.5940193), (4, 0.5736774), (8, 0.5638865), (3, 0.56157357), (5, 0.51582533), (0, 0.40971285)]\n",
       "8            [(8, 1.0), (1, 0.676445), (6, 0.64956856), (9, 0.64729667), (2, 0.63496965), (3, 0.572134), (7, 0.5638865), (4, 0.54481447), (5, 0.50444025), (0, 0.29844344)]\n",
       "9    [(9, 0.9999999), (6, 0.69208443), (8, 0.64729667), (7, 0.6414438), (1, 0.60601383), (2, 0.59816897), (3, 0.55159676), (5, 0.5305929), (4, 0.4947331), (0, 0.34242103)]\n",
       "Name: similar_movies, dtype: object"
      ]
     },
     "execution_count": 10,
     "metadata": {},
     "output_type": "execute_result"
    }
   ],
   "source": [
    "df['similar_movies']"
   ]
  },
  {
   "cell_type": "code",
   "execution_count": null,
   "metadata": {},
   "outputs": [],
   "source": []
  },
  {
   "cell_type": "code",
   "execution_count": null,
   "metadata": {},
   "outputs": [],
   "source": []
  }
 ],
 "metadata": {
  "kernelspec": {
   "display_name": "ML",
   "language": "python",
   "name": "ml"
  },
  "language_info": {
   "codemirror_mode": {
    "name": "ipython",
    "version": 3
   },
   "file_extension": ".py",
   "mimetype": "text/x-python",
   "name": "python",
   "nbconvert_exporter": "python",
   "pygments_lexer": "ipython3",
   "version": "3.8.5"
  }
 },
 "nbformat": 4,
 "nbformat_minor": 4
}
