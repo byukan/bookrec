{
 "cells": [
  {
   "cell_type": "markdown",
   "metadata": {
    "id": "W-1zl5XdYInf"
   },
   "source": [
    "# Question Answering with a Fine-Tuned BERT\n",
    "*by Chris McCormick*"
   ]
  },
  {
   "cell_type": "markdown",
   "metadata": {
    "id": "to62myEs62z4"
   },
   "source": [
    "Source Youtube Video 🚀 : [Applying BERT to Question Answering (SQuAD v1.1)](https://www.youtube.com/watch?v=l8ZYCvgGu0o)      \n",
    "\n",
    "Source Blog 🚀 : [Question Answering with a Fine-Tuned BERT](https://mccormickml.com/2020/03/10/question-answering-with-a-fine-tuned-BERT/)\n",
    "\n",
    "\n",
    "SQuAD Demo: https://rajpurkar.github.io/SQuAD-explorer/explore/1.1/dev/Super_Bowl_50.html"
   ]
  },
  {
   "cell_type": "markdown",
   "metadata": {
    "id": "6_mAnIPKaXyw"
   },
   "source": [
    "What does it mean for BERT to achieve \"human-level performance on Question Answering\"? Is BERT the greatest search engine ever, able to find the answer to any question we pose it?\n",
    "\n",
    "In **Part 1** of this post / notebook, I'll explain what it really means to apply BERT to QA, and illustrate the details.\n",
    "\n",
    "**Part 2** contains example code--we'll be downloading a model that's *already been fine-tuned* for question answering, and try it out on our own text! \n",
    "\n",
    "For something like text classification, you definitely want to fine-tune BERT on your own dataset. For question answering, however, it seems like you may be able to get decent results using a model that's already been fine-tuned on the SQuAD benchmark. In this Notebook, we'll do exactly that, and see that it performs well on text that wasn't in the SQuAD dataset.\n",
    "\n",
    "**Links**\n",
    "\n",
    "* My [video walkthrough](https://youtu.be/l8ZYCvgGu0o) on this topic. \n",
    "* The blog post version.\n",
    "* The [Colab Notebook](https://colab.research.google.com/drive/1uSlWtJdZmLrI3FCNIlUHFxwAJiSu2J0-)."
   ]
  },
  {
   "cell_type": "markdown",
   "metadata": {
    "id": "X2bUvKUffHNY"
   },
   "source": [
    "# Part 1: How BERT is applied to Question Answering"
   ]
  },
  {
   "cell_type": "markdown",
   "metadata": {
    "id": "Su7fixBdiUex"
   },
   "source": [
    "## The SQuAD v1.1 Benchmark"
   ]
  },
  {
   "cell_type": "markdown",
   "metadata": {
    "id": "bT5ESKDxfnLf"
   },
   "source": [
    "When someone mentions \"Question Answering\" as an application of BERT, what they are really referring to is applying BERT to the Stanford Question Answering Dataset (SQuAD).\n",
    "\n",
    "The task posed by the SQuAD benchmark is a little different than you might think. Given a question, and *a passage of text containing the answer*, BERT needs to highlight the \"span\" of text corresponding to the correct answer. \n",
    "\n",
    "The SQuAD homepage has a fantastic tool for exploring the questions and reference text for this dataset, and even shows the predictions made by top-performing models.\n",
    "\n",
    "For example, here are some [interesting examples](https://rajpurkar.github.io/SQuAD-explorer/explore/1.1/dev/Super_Bowl_50.html?model=r-net+%20(ensemble)%20(Microsoft%20Research%20Asia)&version=1.1) on the topic of Super Bowl 50.\n"
   ]
  },
  {
   "cell_type": "markdown",
   "metadata": {
    "id": "_xN5f1bxf6K_"
   },
   "source": [
    "## BERT Input Format"
   ]
  },
  {
   "cell_type": "markdown",
   "metadata": {
    "id": "Ctum5SK6f9uP"
   },
   "source": [
    "To feed a QA task into BERT, we pack both the question and the reference text into the input.\n",
    "\n",
    "应对QA任务，training data我们需要准备 **Question** + **Reference text, Bert会从reference text中挑选出span作为我们的答案**\n"
   ]
  },
  {
   "cell_type": "markdown",
   "metadata": {
    "id": "EaPCFHgSOO37"
   },
   "source": [
    "\n",
    "[![Input format for QA](https://drive.google.com/uc?export=view&id=1dfgTaE_SABpr2blqwTjq9PTyhYabO8_m)](https://drive.google.com/uc?export=view&id=1dfgTaE_SABpr2blqwTjq9PTyhYabO8_m)\n"
   ]
  },
  {
   "cell_type": "markdown",
   "metadata": {
    "id": "9-SS0PucOQdt"
   },
   "source": [
    "\n",
    "The two pieces of text are separated by the special `[SEP]` token. \n",
    "\n",
    "BERT also uses \"Segment Embeddings\" to differentiate the question from the reference text. These are simply two embeddings (for segments \"A\" and \"B\") that BERT learned, and which it adds to the token embeddings before feeding them into the input layer. "
   ]
  },
  {
   "cell_type": "markdown",
   "metadata": {
    "id": "Kl6BECEXu4jH"
   },
   "source": [
    "[![BERT eBook Display Ad](https://drive.google.com/uc?export=view&id=1d6L584QYqpREpRIwAZ55Wsq8AUs5qSk1)](https://bit.ly/3isUyCt)"
   ]
  },
  {
   "cell_type": "markdown",
   "metadata": {
    "id": "xs31dcrPg5Tg"
   },
   "source": [
    "## Start & End Token Classifiers"
   ]
  },
  {
   "cell_type": "markdown",
   "metadata": {
    "id": "lvOdUa9Wg-Uv"
   },
   "source": [
    "**作为QA问题，其实Bert预测的是答案的Start和End point，然后选取其中的text作为答案**\n",
    "\n",
    "BERT needs to highlight a \"span\" of text containing the answer--this is represented as simply predicting which token marks the start of the answer, and which token marks the end.\n",
    "\n",
    "![Start token classification](http://mccormickml.com/assets/BERT/SQuAD/start_token_classification.png)\n",
    "\n",
    "For every token in the text, we feed its final embedding into the start token classifier. The start token classifier only has a single set of weights (represented by the blue \"start\" rectangle in the above illustration) which it applies to every word.\n",
    "\n",
    "After taking the dot product between the output embeddings and the 'start' weights, we apply the softmax activation to produce a probability distribution over all of the words. Whichever word has the highest probability of being the start token is the one that we pick.\n",
    "\n",
    "We repeat this process for the end token--we have a separate weight vector this.\n",
    "\n",
    "![End token classification](http://mccormickml.com/assets/BERT/SQuAD/end_token_classification.png)"
   ]
  },
  {
   "cell_type": "markdown",
   "metadata": {
    "id": "457VPa20fZzY"
   },
   "source": [
    "# Part 2: Example Code"
   ]
  },
  {
   "cell_type": "markdown",
   "metadata": {
    "id": "9wpCLgVCkki5"
   },
   "source": [
    "In the example code below, we'll be downloading a model that's *already been fine-tuned* for question answering, and try it out on our own text.\n",
    "\n",
    "If you do want to fine-tune on your own dataset, it is possible to fine-tune BERT for question answering yourself. See [run_squad.py](https://github.com/huggingface/transformers/blob/master/examples/run_squad.py) in the `transformers` library. However,you may find that the below \"fine-tuned-on-squad\" model already does a good job, even if your text is from a different domain. \n",
    "\n",
    "> Note: The example code in this Notebook is a commented and expanded version of the short example provided in the `transformers` documentation [here](https://huggingface.co/transformers/model_doc/bert.html?highlight=bertforquestionanswering#transformers.BertForQuestionAnswering)."
   ]
  },
  {
   "cell_type": "markdown",
   "metadata": {
    "id": "gVq-TuylYRDW"
   },
   "source": [
    "## 1. Install huggingface transformers library"
   ]
  },
  {
   "cell_type": "markdown",
   "metadata": {
    "id": "f9nhy3PzGQ44"
   },
   "source": [
    "This example uses the `transformers` [library](https://github.com/huggingface/transformers/) by huggingface. We'll start by installing the package."
   ]
  },
  {
   "cell_type": "code",
   "execution_count": null,
   "metadata": {
    "colab": {
     "base_uri": "https://localhost:8080/"
    },
    "id": "aQl0MMrOGIup",
    "outputId": "dbc55644-b5d7-4ed8-fab6-8b66a0bd36ca"
   },
   "outputs": [
    {
     "name": "stdout",
     "output_type": "stream",
     "text": [
      "Collecting transformers==3.1.0\n",
      "\u001b[?25l  Downloading https://files.pythonhosted.org/packages/ae/05/c8c55b600308dc04e95100dc8ad8a244dd800fe75dfafcf1d6348c6f6209/transformers-3.1.0-py3-none-any.whl (884kB)\n",
      "\u001b[K     |████████████████████████████████| 890kB 14.6MB/s \n",
      "\u001b[?25hRequirement already satisfied: packaging in /usr/local/lib/python3.7/dist-packages (from transformers==3.1.0) (20.9)\n",
      "Requirement already satisfied: requests in /usr/local/lib/python3.7/dist-packages (from transformers==3.1.0) (2.23.0)\n",
      "Requirement already satisfied: numpy in /usr/local/lib/python3.7/dist-packages (from transformers==3.1.0) (1.19.5)\n",
      "Requirement already satisfied: regex!=2019.12.17 in /usr/local/lib/python3.7/dist-packages (from transformers==3.1.0) (2019.12.20)\n",
      "Collecting sentencepiece!=0.1.92\n",
      "\u001b[?25l  Downloading https://files.pythonhosted.org/packages/f5/99/e0808cb947ba10f575839c43e8fafc9cc44e4a7a2c8f79c60db48220a577/sentencepiece-0.1.95-cp37-cp37m-manylinux2014_x86_64.whl (1.2MB)\n",
      "\u001b[K     |████████████████████████████████| 1.2MB 36.7MB/s \n",
      "\u001b[?25hCollecting tokenizers==0.8.1.rc2\n",
      "\u001b[?25l  Downloading https://files.pythonhosted.org/packages/75/26/c02ba92ecb8b780bdae4a862d351433c2912fe49469dac7f87a5c85ccca6/tokenizers-0.8.1rc2-cp37-cp37m-manylinux1_x86_64.whl (3.0MB)\n",
      "\u001b[K     |████████████████████████████████| 3.0MB 50.5MB/s \n",
      "\u001b[?25hCollecting sacremoses\n",
      "\u001b[?25l  Downloading https://files.pythonhosted.org/packages/08/cd/342e584ee544d044fb573ae697404ce22ede086c9e87ce5960772084cad0/sacremoses-0.0.44.tar.gz (862kB)\n",
      "\u001b[K     |████████████████████████████████| 870kB 49.2MB/s \n",
      "\u001b[?25hRequirement already satisfied: tqdm>=4.27 in /usr/local/lib/python3.7/dist-packages (from transformers==3.1.0) (4.41.1)\n",
      "Requirement already satisfied: filelock in /usr/local/lib/python3.7/dist-packages (from transformers==3.1.0) (3.0.12)\n",
      "Requirement already satisfied: pyparsing>=2.0.2 in /usr/local/lib/python3.7/dist-packages (from packaging->transformers==3.1.0) (2.4.7)\n",
      "Requirement already satisfied: chardet<4,>=3.0.2 in /usr/local/lib/python3.7/dist-packages (from requests->transformers==3.1.0) (3.0.4)\n",
      "Requirement already satisfied: idna<3,>=2.5 in /usr/local/lib/python3.7/dist-packages (from requests->transformers==3.1.0) (2.10)\n",
      "Requirement already satisfied: certifi>=2017.4.17 in /usr/local/lib/python3.7/dist-packages (from requests->transformers==3.1.0) (2020.12.5)\n",
      "Requirement already satisfied: urllib3!=1.25.0,!=1.25.1,<1.26,>=1.21.1 in /usr/local/lib/python3.7/dist-packages (from requests->transformers==3.1.0) (1.24.3)\n",
      "Requirement already satisfied: six in /usr/local/lib/python3.7/dist-packages (from sacremoses->transformers==3.1.0) (1.15.0)\n",
      "Requirement already satisfied: click in /usr/local/lib/python3.7/dist-packages (from sacremoses->transformers==3.1.0) (7.1.2)\n",
      "Requirement already satisfied: joblib in /usr/local/lib/python3.7/dist-packages (from sacremoses->transformers==3.1.0) (1.0.1)\n",
      "Building wheels for collected packages: sacremoses\n",
      "  Building wheel for sacremoses (setup.py) ... \u001b[?25l\u001b[?25hdone\n",
      "  Created wheel for sacremoses: filename=sacremoses-0.0.44-cp37-none-any.whl size=886084 sha256=e8793f19d401993c01958b219b7cdcc57ae92cf2a3b387a4a16601a2fef9fe9c\n",
      "  Stored in directory: /root/.cache/pip/wheels/3e/fb/c0/13ab4d63d537658f448366744654323077c4d90069b6512f3c\n",
      "Successfully built sacremoses\n",
      "Installing collected packages: sentencepiece, tokenizers, sacremoses, transformers\n",
      "Successfully installed sacremoses-0.0.44 sentencepiece-0.1.95 tokenizers-0.8.1rc2 transformers-3.1.0\n"
     ]
    }
   ],
   "source": [
    "# 必须3.1.0版本，否则后面会报错\n",
    "!pip install transformers==3.1.0"
   ]
  },
  {
   "cell_type": "code",
   "execution_count": null,
   "metadata": {
    "id": "-ONLrgJK99TQ"
   },
   "outputs": [],
   "source": [
    "import torch"
   ]
  },
  {
   "cell_type": "markdown",
   "metadata": {
    "id": "1WThOUtpYvG-"
   },
   "source": [
    "## 2. Load Fine-Tuned BERT-large"
   ]
  },
  {
   "cell_type": "markdown",
   "metadata": {
    "id": "AaweLnNXGhTY"
   },
   "source": [
    "For Question Answering we use the `BertForQuestionAnswering` class from the `transformers` library.\n",
    "\n",
    "This class supports fine-tuning, but for this example we will keep things simpler and load a BERT model that has already been fine-tuned for the SQuAD benchmark.\n",
    "\n",
    "The `transformers` library has a large collection of pre-trained models which you can reference by name and load easily. The full list is in their documentation [here](https://huggingface.co/transformers/pretrained_models.html).\n",
    "\n",
    "For Question Answering, they have a version of BERT-large that has already been fine-tuned for the SQuAD benchmark. \n",
    "\n",
    "BERT-large is really big... it has 24-layers and an embedding size of 1,024, for a total of 340M parameters! Altogether it is 1.34GB, so expect it to take a couple minutes to download to your Colab instance. \n",
    "\n",
    "(Note that this download is not using your own network bandwidth--it's between the Google instance and wherever the model is stored on the web).\n",
    "\n",
    "Note: I believe this model was trained on version 1 of SQuAD, since it's not outputting whether the question is \"impossible\" to answer from the text (which is part of the task in v2 of SQuAD).\n"
   ]
  },
  {
   "cell_type": "code",
   "execution_count": null,
   "metadata": {
    "colab": {
     "base_uri": "https://localhost:8080/",
     "height": 115,
     "referenced_widgets": [
      "85d746ba7fee49c5b7f0fa7f210f57df",
      "631860fe3c624c29bccbbd8462b8bf80",
      "5cb660e45dde4c91945280a4a3a75a25",
      "5f6df7274b1e4f6880479e575f1915ad",
      "c1bb148ae16447609f1a0e84c63d1e9e",
      "7688bbb14e034ee992ad0b760ceb439c",
      "6032c60843eb4e1b8c0796ece4029d39",
      "ca1d71426a394788a480a8af280b9e3f",
      "d727e021f0804427b0d4f5d8027e4044",
      "f7ce62a943c940ba972cc72bbc71fba9",
      "1726c3d1c6a2478fb34c7b5b58632502",
      "38749123713341f88975aa88e99eb8bb",
      "7655ffd950e74c41966112250ddfe77d",
      "26018ea4426c4701b8769964f5835cdc",
      "cdc78b351d624a1fa09168262adeb83e",
      "3427d12e769d42d9b07999d0d59c4a7b"
     ]
    },
    "id": "-Mnv95sX-U9K",
    "outputId": "d394507d-e91b-4bc9-f2f6-2aa920b93065"
   },
   "outputs": [
    {
     "data": {
      "application/vnd.jupyter.widget-view+json": {
       "model_id": "85d746ba7fee49c5b7f0fa7f210f57df",
       "version_major": 2,
       "version_minor": 0
      },
      "text/plain": [
       "HBox(children=(FloatProgress(value=0.0, description='Downloading', max=443.0, style=ProgressStyle(description_…"
      ]
     },
     "metadata": {
      "tags": []
     },
     "output_type": "display_data"
    },
    {
     "name": "stdout",
     "output_type": "stream",
     "text": [
      "\n"
     ]
    },
    {
     "data": {
      "application/vnd.jupyter.widget-view+json": {
       "model_id": "d727e021f0804427b0d4f5d8027e4044",
       "version_major": 2,
       "version_minor": 0
      },
      "text/plain": [
       "HBox(children=(FloatProgress(value=0.0, description='Downloading', max=1340675298.0, style=ProgressStyle(descr…"
      ]
     },
     "metadata": {
      "tags": []
     },
     "output_type": "display_data"
    },
    {
     "name": "stdout",
     "output_type": "stream",
     "text": [
      "\n"
     ]
    }
   ],
   "source": [
    "from transformers import BertForQuestionAnswering\n",
    "\n",
    "model = BertForQuestionAnswering.from_pretrained('bert-large-uncased-whole-word-masking-finetuned-squad')   # whole-word-masking 的意思是不只是mask subwords，而是mask whole words\n"
   ]
  },
  {
   "cell_type": "markdown",
   "metadata": {
    "id": "8imoOxoqGZ0h"
   },
   "source": [
    "Load the tokenizer as well. \n",
    "\n",
    "Side note: Apparently the vocabulary of this model is identicaly to the one in bert-base-uncased. You can load the tokenizer from `bert-base-uncased` and that works just as well."
   ]
  },
  {
   "cell_type": "code",
   "execution_count": null,
   "metadata": {
    "colab": {
     "base_uri": "https://localhost:8080/",
     "height": 66,
     "referenced_widgets": [
      "cee98629600e4045bed19495d764e414",
      "7e0febe6993f48ff9ea82406b26f32f1",
      "0790063edd2744a692cdcd1c4248e068",
      "3862ef1ce10d4e10b6f2f0b943e98774",
      "943863977e324855a535c4458fb5da6c",
      "994172dd42614bc7880ffbf4578f014a",
      "d6bcd7eb1e394b4ebedd34e7c684a93b",
      "9072e953775948229722c56a66797c2c"
     ]
    },
    "id": "SFQ5f7gv-RBH",
    "outputId": "e45dc9f5-edda-4c77-9ffc-3c49e28d79a0"
   },
   "outputs": [
    {
     "data": {
      "application/vnd.jupyter.widget-view+json": {
       "model_id": "cee98629600e4045bed19495d764e414",
       "version_major": 2,
       "version_minor": 0
      },
      "text/plain": [
       "HBox(children=(FloatProgress(value=0.0, description='Downloading', max=231508.0, style=ProgressStyle(descripti…"
      ]
     },
     "metadata": {
      "tags": []
     },
     "output_type": "display_data"
    },
    {
     "name": "stdout",
     "output_type": "stream",
     "text": [
      "\n"
     ]
    }
   ],
   "source": [
    "from transformers import BertTokenizer\n",
    "\n",
    "tokenizer = BertTokenizer.from_pretrained('bert-large-uncased-whole-word-masking-finetuned-squad')"
   ]
  },
  {
   "cell_type": "markdown",
   "metadata": {
    "id": "I__1ubvcZYow"
   },
   "source": [
    "## 3. Ask a Question"
   ]
  },
  {
   "cell_type": "markdown",
   "metadata": {
    "id": "o8MQ7b-GJIcM"
   },
   "source": [
    "Now we're ready to feed in an example!\n",
    "\n",
    "A QA example consists of a question and a passage of text containing the answer to that question.\n",
    "\n",
    "Let's try an example using the text in this tutorial!\n",
    "\n",
    "**给出qustion和reference text, bert模型要做的就是从reference text找出start和end position，这两个position之间的token就是answer**"
   ]
  },
  {
   "cell_type": "code",
   "execution_count": null,
   "metadata": {
    "id": "kWzZP4EN-Zxg"
   },
   "outputs": [],
   "source": [
    "# question = \"How many parameters does BERT-large have?\"\n",
    "# answer_text = \"BERT-large is really big... it has 24-layers and an embedding size of 1,024, for a total of 340M parameters! Altogether it is 1.34GB, so expect it to take a couple minutes to download to your Colab instance.\"\n",
    "\n",
    "question = \"do you know who is the founder of China?\"\n",
    "#answer_text = \"Mao Zedong[a] (/ˈmaʊ (d)zəˈdʊŋ/;[1] simplified Chinese: 毛泽东; traditional Chinese: 毛澤東; pinyin: Máo Zédōng pronounced [mǎu tsɤ̌.tʊ́ŋ]; December 26, 1893 – September 9, 1976), also known as Chairman Mao, was a Chinese communist revolutionary who was the founder of the People's Republic of China (PRC), which he ruled as the chairman of the Chinese Communist Party from its establishment in 1949 until his death in 1976. Ideologically a Marxist–Leninist, his theories, military strategies, and political policies are collectively known as Maoism. Even though Deng Xiaoping is known as the main designer of China's open and reform policy, Mao Zedong is still widely recognized as the founder of People's Republic of China.\"\n",
    "answer_text = \"Even though Deng Xiaoping, Liu Shaoqi, Jiang Zeming are known as the main designer of China's open and reform policy, Mao Zedong is still widely recognized as the founder of People's Republic of China.\""
   ]
  },
  {
   "cell_type": "code",
   "execution_count": null,
   "metadata": {
    "id": "gqFA_P-BvtIS"
   },
   "outputs": [],
   "source": [
    "question = \"do you know who is destroying China?\"\n",
    "\n",
    "answer_text = \"In 1960s, Mao Zedong brought disaster to China. He led cultural revolution that destroyed millions people’s life. However, Mao built the regime of China, and president Deng, Jiang, and Hu developed China very well, until Baozi became the leader of China. Baozi reversed the fundamental open and development policy of China. As his propaganda,millions of Chinese people is being wolf worriers, which is very dangerous for China and the world.\""
   ]
  },
  {
   "cell_type": "code",
   "execution_count": null,
   "metadata": {
    "id": "XyOtiQPXv6TL"
   },
   "outputs": [],
   "source": [
    "question = \"do you know who is the founder of Ming Dynasty?\"\n",
    "\n",
    "answer_text = \"In 1960s, Mao Zedong brought disaster to China. Zhu Yuanzhang is the first emperor of Ming Dynasty. He led cultural revolution that destroyed millions people’s life. However, Mao built the regime of China, and president Deng, Jiang, and Hu developed China very well, until Baozi became the leader of China. Baozi reversed the fundamental open and development policy of China. As his propaganda,millions of Chinese people is being wolf worriers, which is very dangerous for China and the world.\""
   ]
  },
  {
   "cell_type": "code",
   "execution_count": null,
   "metadata": {
    "id": "ybfDPaxaxU-8"
   },
   "outputs": [],
   "source": [
    "question = \"do you know who is the founder of Ming Dynasty?\"\n",
    "\n",
    "answer_text = \"In 1960s, a scholar suggested that Nurhaci was the founder of Qing Dynasty. Some of his colleagues agreed with him, but some were not. They suggested that Zhu Yuanzhang was the founder of the country. Now 99% of scholars believe that Zhu Yuanzhang was the founder\""
   ]
  },
  {
   "cell_type": "code",
   "execution_count": null,
   "metadata": {
    "id": "Clivkh220lJK"
   },
   "outputs": [],
   "source": [
    "question = \"do you know who is the founder of Ming Dynasty?\"\n",
    "\n",
    "answer_text = \"Now 99% of scholars believe that Zhu Yuanzhang was the founder of Ming Dynasty. However, in 1960s, a scholar suggested that Nurhaci was the founder of Ming Dynasty. Some of his colleagues agreed with him, but some were not.\""
   ]
  },
  {
   "cell_type": "markdown",
   "metadata": {
    "id": "llLvxhScKLZn"
   },
   "source": [
    "We'll need to run the BERT tokenizer against both the `question` and the `answer_text`. To feed these into BERT, we actually concatenate them together and place the special [SEP] token in between.\n"
   ]
  },
  {
   "cell_type": "code",
   "execution_count": null,
   "metadata": {
    "colab": {
     "base_uri": "https://localhost:8080/"
    },
    "id": "tYoX33CfKGsr",
    "outputId": "fa4eb24a-3b0e-43f2-e921-f639f2f6404b"
   },
   "outputs": [
    {
     "name": "stdout",
     "output_type": "stream",
     "text": [
      "The input has a total of 64 tokens.\n"
     ]
    }
   ],
   "source": [
    "# Apply the tokenizer to the input text, treating them as a text-pair.\n",
    "input_ids = tokenizer.encode(question, answer_text)\n",
    "\n",
    "print('The input has a total of {:} tokens.'.format(len(input_ids)))"
   ]
  },
  {
   "cell_type": "markdown",
   "metadata": {
    "id": "pNRVuaKSNFG8"
   },
   "source": [
    "Just to see exactly what the tokenizer is doing, let's print out the tokens with their IDs."
   ]
  },
  {
   "cell_type": "code",
   "execution_count": null,
   "metadata": {
    "colab": {
     "base_uri": "https://localhost:8080/"
    },
    "id": "Iow838yPNDTv",
    "outputId": "993978d8-271b-4b53-924c-45a33231e3e5"
   },
   "outputs": [
    {
     "name": "stdout",
     "output_type": "stream",
     "text": [
      "[CLS]           101\n",
      "do            2,079\n",
      "you           2,017\n",
      "know          2,113\n",
      "who           2,040\n",
      "is            2,003\n",
      "the           1,996\n",
      "founder       3,910\n",
      "of            1,997\n",
      "ming         11,861\n",
      "dynasty       5,321\n",
      "?             1,029\n",
      "\n",
      "[SEP]           102\n",
      "\n",
      "now           2,085\n",
      "99            5,585\n",
      "%             1,003\n",
      "of            1,997\n",
      "scholars      5,784\n",
      "believe       2,903\n",
      "that          2,008\n",
      "zhu          15,503\n",
      "yuan         11,237\n",
      "##zh         27,922\n",
      "##ang         5,654\n",
      "was           2,001\n",
      "the           1,996\n",
      "founder       3,910\n",
      "of            1,997\n",
      "ming         11,861\n",
      "dynasty       5,321\n",
      ".             1,012\n",
      "however       2,174\n",
      ",             1,010\n",
      "in            1,999\n",
      "1960s         4,120\n",
      ",             1,010\n",
      "a             1,037\n",
      "scholar       6,288\n",
      "suggested     4,081\n",
      "that          2,008\n",
      "nur          27,617\n",
      "##ha          3,270\n",
      "##ci          6,895\n",
      "was           2,001\n",
      "the           1,996\n",
      "founder       3,910\n",
      "of            1,997\n",
      "ming         11,861\n",
      "dynasty       5,321\n",
      ".             1,012\n",
      "some          2,070\n",
      "of            1,997\n",
      "his           2,010\n",
      "colleagues    8,628\n",
      "agreed        3,530\n",
      "with          2,007\n",
      "him           2,032\n",
      ",             1,010\n",
      "but           2,021\n",
      "some          2,070\n",
      "were          2,020\n",
      "not           2,025\n",
      ".             1,012\n",
      "\n",
      "[SEP]           102\n",
      "\n"
     ]
    }
   ],
   "source": [
    "# BERT only needs the token IDs, but for the purpose of inspecting the \n",
    "# tokenizer's behavior, let's also get the token strings and display them.\n",
    "tokens = tokenizer.convert_ids_to_tokens(input_ids)\n",
    "\n",
    "# For each token and its id...\n",
    "for token, id in zip(tokens, input_ids):\n",
    "  \n",
    "    \n",
    "    # If this is the [SEP] token, add some space around it to make it stand out.\n",
    "    if id == tokenizer.sep_token_id:\n",
    "        print('')\n",
    "    \n",
    "    # Print the token string and its ID in two columns.\n",
    "    print('{:<12} {:>6,}'.format(token, id))\n",
    "\n",
    "    if id == tokenizer.sep_token_id:\n",
    "        print('')\n",
    "    "
   ]
  },
  {
   "cell_type": "markdown",
   "metadata": {
    "id": "zm208EApN16k"
   },
   "source": [
    "We've concatenated the `question` and `answer_text` together, but BERT still needs a way to distinguish them. BERT has two special \"Segment\" embeddings, one for segment \"A\" and one for segment \"B\". Before the word embeddings go into the BERT layers, the segment A embedding needs to be added to the `question` tokens, and the segment B embedding needs to be added to each of the `answer_text` tokens. \n",
    "\n",
    "These additions are handled for us by the `transformer` library, and all we need to do is specify a '0' or '1' for each token. \n",
    "\n",
    "Note: In the `transformers` library, huggingface likes to call these `token_type_ids`, but I'm going with `segment_ids` since this seems clearer, and is consistent with the BERT paper."
   ]
  },
  {
   "cell_type": "code",
   "execution_count": null,
   "metadata": {
    "id": "uJ7PRx2dKqFN"
   },
   "outputs": [],
   "source": [
    "# Search the input_ids for the first instance of the `[SEP]` token.\n",
    "sep_index = input_ids.index(tokenizer.sep_token_id)\n",
    "\n",
    "# The number of segment A tokens includes the [SEP] token istelf.\n",
    "num_seg_a = sep_index + 1\n",
    "\n",
    "# The remainder are segment B.\n",
    "num_seg_b = len(input_ids) - num_seg_a\n",
    "\n",
    "# Construct the list of 0s and 1s.\n",
    "segment_ids = [0]*num_seg_a + [1]*num_seg_b\n",
    "\n",
    "# There should be a segment_id for every input token.\n",
    "assert len(segment_ids) == len(input_ids)"
   ]
  },
  {
   "cell_type": "markdown",
   "metadata": {
    "id": "a30sBTcqQv6X"
   },
   "source": [
    ">*Side Note: Where's the padding?*\n",
    ">\n",
    "> The original [example code](https://huggingface.co/transformers/model_doc/bert.html?highlight=bertforquestionanswering#transformers.BertForQuestionAnswering) does not perform any padding. I suspect that this is because we are only feeding in a *single example*. If we instead fed in a batch of examples, then we would need to pad or truncate all of the samples in the batch to a single length, and supply an attention mask to tell BERT to ignore the padding tokens. "
   ]
  },
  {
   "cell_type": "markdown",
   "metadata": {
    "id": "CNwhEw0kQPBN"
   },
   "source": [
    "We're ready to feed our example into the model!\n",
    "\n",
    "Note: The result object is of type [QuestionAnsweringModelOutput](https://huggingface.co/transformers/main_classes/output.html#transformers.modeling_outputs.QuestionAnsweringModelOutput)\n",
    "\n"
   ]
  },
  {
   "cell_type": "code",
   "execution_count": null,
   "metadata": {
    "id": "DQiKr6Aw-YTg"
   },
   "outputs": [],
   "source": [
    "# Run our example through the model.\n",
    "outputs = model(torch.tensor([input_ids]), # The tokens representing our input text.\n",
    "                             token_type_ids=torch.tensor([segment_ids]), # The segment IDs to differentiate question from answer_text\n",
    "                             return_dict=True\n",
    "                ) \n",
    "\n",
    "start_scores = outputs.start_logits\n",
    "end_scores = outputs.end_logits\n"
   ]
  },
  {
   "cell_type": "code",
   "execution_count": null,
   "metadata": {
    "colab": {
     "base_uri": "https://localhost:8080/"
    },
    "id": "aQvloLCRAGAF",
    "outputId": "e008a82c-9fd5-4ba4-ffe3-537523a290dd"
   },
   "outputs": [
    {
     "data": {
      "text/plain": [
       "tensor([[-5.6038e+00, -7.0895e+00, -8.0385e+00, -7.6156e+00, -7.5693e+00,\n",
       "         -8.5517e+00, -8.0167e+00, -8.6533e+00, -9.0467e+00, -8.7795e+00,\n",
       "         -9.6611e+00, -9.4391e+00, -5.6038e+00,  1.8768e+00,  3.4864e+00,\n",
       "         -7.0265e-01, -2.6167e+00,  7.0853e-01, -2.0208e-02, -1.7963e+00,\n",
       "          5.8432e+00, -1.1157e+00, -3.6019e+00, -2.8935e+00, -3.9277e+00,\n",
       "         -2.8823e+00, -2.4579e+00, -6.1813e+00, -2.2033e+00, -4.0615e+00,\n",
       "         -5.6038e+00, -1.6295e+00, -4.9888e+00, -4.5226e-01, -1.3483e+00,\n",
       "         -4.9989e+00, -8.0242e-03, -7.1396e-01, -6.9795e-01, -3.5915e+00,\n",
       "          3.1932e+00, -3.9705e+00, -3.9091e+00, -5.3535e+00, -4.7081e+00,\n",
       "         -3.8638e+00, -7.4191e+00, -3.8052e+00, -5.3352e+00, -5.3122e+00,\n",
       "         -3.1971e-01, -6.1043e+00, -3.5738e+00, -2.9052e+00, -2.6566e+00,\n",
       "         -7.0469e+00, -5.8720e+00, -7.1453e+00, -4.7447e+00, -2.4632e+00,\n",
       "         -6.2894e+00, -6.0219e+00, -7.7640e+00, -5.6036e+00]],\n",
       "       grad_fn=<SqueezeBackward1>)"
      ]
     },
     "execution_count": 191,
     "metadata": {
      "tags": []
     },
     "output_type": "execute_result"
    }
   ],
   "source": [
    "# 可以得到answer的start position probability\n",
    "start_scores"
   ]
  },
  {
   "cell_type": "code",
   "execution_count": null,
   "metadata": {
    "colab": {
     "base_uri": "https://localhost:8080/"
    },
    "id": "8UJqd77BAIO-",
    "outputId": "fc462396-d191-43b9-b01a-c775398b853b"
   },
   "outputs": [
    {
     "data": {
      "text/plain": [
       "tensor([[-0.8100, -7.3913, -7.1288, -7.0457, -7.8436, -7.8811, -8.3837, -7.4229,\n",
       "         -7.8508, -7.8132, -6.6605, -7.3329, -0.8099, -3.5995, -2.2355, -0.2795,\n",
       "         -3.7755, -0.1083, -1.5699, -2.8127, -0.2916, -1.5454, -1.5730,  6.0634,\n",
       "          0.0554, -3.3121,  1.3701, -3.5666, -1.2094,  3.1459, -0.8098, -3.6235,\n",
       "         -3.7029, -6.8454, -2.6454, -4.3919, -5.1101, -2.9227, -3.8729, -5.1459,\n",
       "         -3.4827, -3.7248,  4.1200, -2.7925, -5.2395, -0.0878, -5.4382, -2.9134,\n",
       "          1.8864,  1.4891, -4.9472, -7.2657, -6.4441, -3.1615, -4.8620, -5.9479,\n",
       "         -0.8586, -2.8064, -7.0404, -5.6492, -6.9147, -1.7264, -1.6133, -0.8107]],\n",
       "       grad_fn=<SqueezeBackward1>)"
      ]
     },
     "execution_count": 192,
     "metadata": {
      "tags": []
     },
     "output_type": "execute_result"
    }
   ],
   "source": [
    "# 可以得到answer的end position probability\n",
    "end_scores"
   ]
  },
  {
   "cell_type": "code",
   "execution_count": null,
   "metadata": {
    "id": "Iu-AhQewC7o4"
   },
   "outputs": [],
   "source": [
    "assert len(end_scores[0]) == len(tokens)"
   ]
  },
  {
   "cell_type": "markdown",
   "metadata": {
    "id": "luFMr-dzC6WH"
   },
   "source": [
    "总共会有question + reference text的token长度的probability，每个probability是各个位置的可能性"
   ]
  },
  {
   "cell_type": "markdown",
   "metadata": {
    "id": "mBdS_QkIbDzh"
   },
   "source": [
    "Now we can highlight the answer just by looking at the most probable start and end words. "
   ]
  },
  {
   "cell_type": "code",
   "execution_count": null,
   "metadata": {
    "colab": {
     "base_uri": "https://localhost:8080/"
    },
    "id": "LeUQ44hAJmn9",
    "outputId": "c911b822-a91a-44df-c03e-d8ec8cd46700"
   },
   "outputs": [
    {
     "name": "stdout",
     "output_type": "stream",
     "text": [
      "Answer: \"zhu yuan ##zh ##ang\"\n"
     ]
    }
   ],
   "source": [
    "# Find the tokens with the highest `start` and `end` scores.\n",
    "answer_start = torch.argmax(start_scores)\n",
    "answer_end = torch.argmax(end_scores)\n",
    "\n",
    "# Combine the tokens in the answer and print it out.\n",
    "answer = ' '.join(tokens[answer_start:answer_end+1])\n",
    "\n",
    "print('Answer: \"' + answer + '\"')"
   ]
  },
  {
   "cell_type": "markdown",
   "metadata": {
    "id": "twMUWmr2brRw"
   },
   "source": [
    "It got it right! Awesome :)\n",
    "\n",
    "**卧槽，牛逼大发了! 确实是老毛！！！！**       \n",
    "**但凡是维基百科上的内容，Bert确实掌握得不错**"
   ]
  },
  {
   "cell_type": "markdown",
   "metadata": {
    "id": "cERYCGKMbOXX"
   },
   "source": [
    "> *Side Note: It's a little naive to pick the highest scores for start and end--what if it predicts an end word that's before the start word?! The correct implementation is to pick the highest total score for which end >= start.*"
   ]
  },
  {
   "cell_type": "markdown",
   "metadata": {
    "id": "N6j2znkwXYsn"
   },
   "source": [
    "With a little more effort, we can reconstruct any words that got broken down into subwords."
   ]
  },
  {
   "cell_type": "code",
   "execution_count": null,
   "metadata": {
    "colab": {
     "base_uri": "https://localhost:8080/"
    },
    "id": "Khral6HZXCuI",
    "outputId": "e2277422-e831-48b6-ebb6-f173ad151b9b"
   },
   "outputs": [
    {
     "name": "stdout",
     "output_type": "stream",
     "text": [
      "Answer: \"nurhaci\"\n"
     ]
    }
   ],
   "source": [
    "# Start with the first token.\n",
    "answer = tokens[answer_start]\n",
    "\n",
    "# Select the remaining answer tokens and join them with whitespace.\n",
    "for i in range(answer_start + 1, answer_end + 1):\n",
    "    \n",
    "    # If it's a subword token, then recombine it with the previous token.\n",
    "    if tokens[i][0:2] == '##':\n",
    "        answer += tokens[i][2:]\n",
    "    \n",
    "    # Otherwise, add a space then the token.\n",
    "    else:\n",
    "        answer += ' ' + tokens[i]\n",
    "\n",
    "print('Answer: \"' + answer + '\"')"
   ]
  },
  {
   "cell_type": "markdown",
   "metadata": {
    "id": "-hh6nkIdXq-O"
   },
   "source": [
    "## 4. Visualizing Scores"
   ]
  },
  {
   "cell_type": "markdown",
   "metadata": {
    "id": "-hG2YCHYXtg-"
   },
   "source": [
    "I was curious to see what the scores were for all of the words. The following cells generate bar plots showing the start and end scores for every word in the input.\n",
    "\n",
    "**将start和end point的probability可视化**"
   ]
  },
  {
   "cell_type": "code",
   "execution_count": null,
   "metadata": {
    "id": "gkKFa73eJkPE"
   },
   "outputs": [],
   "source": [
    "import matplotlib.pyplot as plt\n",
    "import seaborn as sns\n",
    "\n",
    "# Use plot styling from seaborn.\n",
    "sns.set(style='darkgrid')\n",
    "\n",
    "# Increase the plot size and font size.\n",
    "#sns.set(font_scale=1.5)\n",
    "plt.rcParams[\"figure.figsize\"] = (16,8)"
   ]
  },
  {
   "cell_type": "markdown",
   "metadata": {
    "id": "W7kazkb2iEuQ"
   },
   "source": [
    "Retrieve all of the start and end scores, and use all of the tokens as x-axis labels."
   ]
  },
  {
   "cell_type": "code",
   "execution_count": null,
   "metadata": {
    "id": "C56AtMg2UBxN"
   },
   "outputs": [],
   "source": [
    "# Pull the scores out of PyTorch Tensors and convert them to 1D numpy arrays.\n",
    "s_scores = start_scores.detach().numpy().flatten()\n",
    "e_scores = end_scores.detach().numpy().flatten()\n",
    "\n",
    "# We'll use the tokens as the x-axis labels. In order to do that, they all need\n",
    "# to be unique, so we'll add the token index to the end of each one.\n",
    "token_labels = []\n",
    "for (i, token) in enumerate(tokens):\n",
    "    token_labels.append('{:} - {:>2}'.format(token, i))\n"
   ]
  },
  {
   "cell_type": "markdown",
   "metadata": {
    "id": "NIaW7RyTiLeu"
   },
   "source": [
    "Create a bar plot showing the score for every input word being the \"start\" word."
   ]
  },
  {
   "cell_type": "code",
   "execution_count": null,
   "metadata": {
    "colab": {
     "base_uri": "https://localhost:8080/",
     "height": 576
    },
    "id": "y6OAV1dL3-UB",
    "outputId": "dcf4a056-864b-49f8-fbeb-3e49d821ca79"
   },
   "outputs": [
    {
     "data": {
      "image/png": "[encoded data removed]",
      "text/plain": [
       "<Figure size 1152x576 with 1 Axes>"
      ]
     },
     "metadata": {
      "tags": []
     },
     "output_type": "display_data"
    }
   ],
   "source": [
    "# Create a barplot showing the start word score for all of the tokens.\n",
    "ax = sns.barplot(x=token_labels, y=s_scores, ci=None)\n",
    "\n",
    "# Turn the xlabels vertical.\n",
    "ax.set_xticklabels(ax.get_xticklabels(), rotation=90, ha=\"center\")\n",
    "\n",
    "# Turn on the vertical grid to help align words to scores.\n",
    "ax.grid(True)\n",
    "\n",
    "plt.title('Start Word Scores')\n",
    "\n",
    "plt.show()"
   ]
  },
  {
   "cell_type": "markdown",
   "metadata": {
    "id": "zIwrF7y6iS1l"
   },
   "source": [
    "Create a second bar plot showing the score for every input word being the \"end\" word."
   ]
  },
  {
   "cell_type": "code",
   "execution_count": null,
   "metadata": {
    "colab": {
     "base_uri": "https://localhost:8080/",
     "height": 576
    },
    "id": "6tXEqIp-Tzou",
    "outputId": "6f01dbb1-0ca0-4478-e43f-02c26be780ce"
   },
   "outputs": [
    {
     "data": {
      "image/png": "[encoded data removed]",
      "text/plain": [
       "<Figure size 1152x576 with 1 Axes>"
      ]
     },
     "metadata": {
      "tags": []
     },
     "output_type": "display_data"
    }
   ],
   "source": [
    "# Create a barplot showing the end word score for all of the tokens.\n",
    "ax = sns.barplot(x=token_labels, y=e_scores, ci=None)\n",
    "\n",
    "# Turn the xlabels vertical.\n",
    "ax.set_xticklabels(ax.get_xticklabels(), rotation=90, ha=\"center\")\n",
    "\n",
    "# Turn on the vertical grid to help align words to scores.\n",
    "ax.grid(True)\n",
    "\n",
    "plt.title('End Word Scores')\n",
    "\n",
    "plt.show()"
   ]
  },
  {
   "cell_type": "markdown",
   "metadata": {
    "id": "YMPc4cLiEjuh"
   },
   "source": [
    "**正确答案的位置的概率都是正的，而且大幅领先别的位置的概率**"
   ]
  },
  {
   "cell_type": "markdown",
   "metadata": {
    "id": "awgi7Z_a9KSq"
   },
   "source": [
    "**Alternate View**\n",
    "\n",
    "I also tried visualizing both the start and end scores on a single bar plot, but I think it may actually be more confusing then seeing them separately. "
   ]
  },
  {
   "cell_type": "code",
   "execution_count": null,
   "metadata": {
    "id": "m4VUk6R05uXS"
   },
   "outputs": [],
   "source": [
    "import pandas as pd\n",
    "\n",
    "# Store the tokens and scores in a DataFrame. \n",
    "# Each token will have two rows, one for its start score and one for its end\n",
    "# score. The \"marker\" column will differentiate them. A little wacky, I know.\n",
    "scores = []\n",
    "for (i, token_label) in enumerate(token_labels):\n",
    "\n",
    "    # Add the token's start score as one row.\n",
    "    scores.append({'token_label': token_label, \n",
    "                   'score': s_scores[i],\n",
    "                   'marker': 'start'})\n",
    "    \n",
    "    # Add  the token's end score as another row.\n",
    "    scores.append({'token_label': token_label, \n",
    "                   'score': e_scores[i],\n",
    "                   'marker': 'end'})\n",
    "    \n",
    "df = pd.DataFrame(scores)\n"
   ]
  },
  {
   "cell_type": "code",
   "execution_count": null,
   "metadata": {
    "colab": {
     "base_uri": "https://localhost:8080/",
     "height": 364
    },
    "id": "07xyo-I97Ntt",
    "outputId": "aeb022d3-dd68-4eed-eb43-c20fe2950c06"
   },
   "outputs": [
    {
     "data": {
      "image/png": "[encoded data removed]",
      "text/plain": [
       "<Figure size 1793.47x432 with 1 Axes>"
      ]
     },
     "metadata": {
      "tags": []
     },
     "output_type": "display_data"
    }
   ],
   "source": [
    "# Draw a grouped barplot to show start and end scores for each word.\n",
    "# The \"hue\" parameter is where we tell it which datapoints belong to which\n",
    "# of the two series.\n",
    "g = sns.catplot(x=\"token_label\", y=\"score\", hue=\"marker\", data=df,\n",
    "                kind=\"bar\", height=6, aspect=4)\n",
    "\n",
    "# Turn the xlabels vertical.\n",
    "g.set_xticklabels(g.ax.get_xticklabels(), rotation=90, ha=\"center\")\n",
    "\n",
    "# Turn on the vertical grid to help align words to scores.\n",
    "g.ax.grid(True)\n"
   ]
  },
  {
   "cell_type": "markdown",
   "metadata": {
    "id": "PIIYefCWDk4T"
   },
   "source": [
    "**卧槽，文章中出现了Deng。Liu，Jiang，Mao，Bert独具慧眼的发现了Mao，屌炸了...**"
   ]
  },
  {
   "cell_type": "markdown",
   "metadata": {
    "id": "8UyBYNmeegGf"
   },
   "source": [
    "## 5. More Examples"
   ]
  },
  {
   "cell_type": "markdown",
   "metadata": {
    "id": "MWtcRpPef-Ce"
   },
   "source": [
    "Turn the QA process into a function so we can easily try out other examples."
   ]
  },
  {
   "cell_type": "code",
   "execution_count": null,
   "metadata": {
    "id": "rH8NbBlsfxZ_"
   },
   "outputs": [],
   "source": [
    "def answer_question(question, answer_text):\n",
    "    '''\n",
    "    Takes a `question` string and an `answer_text` string (which contains the\n",
    "    answer), and identifies the words within the `answer_text` that are the\n",
    "    answer. Prints them out.\n",
    "    '''\n",
    "    # ======== Tokenize ========\n",
    "    # Apply the tokenizer to the input text, treating them as a text-pair.\n",
    "    input_ids = tokenizer.encode(question, answer_text)\n",
    "\n",
    "    # Report how long the input sequence is.\n",
    "    print('Query has {:,} tokens.\\n'.format(len(input_ids)))\n",
    "\n",
    "    # ======== Set Segment IDs ========\n",
    "    # Search the input_ids for the first instance of the `[SEP]` token.\n",
    "    sep_index = input_ids.index(tokenizer.sep_token_id)\n",
    "\n",
    "    # The number of segment A tokens includes the [SEP] token istelf.\n",
    "    num_seg_a = sep_index + 1\n",
    "\n",
    "    # The remainder are segment B.\n",
    "    num_seg_b = len(input_ids) - num_seg_a\n",
    "\n",
    "    # Construct the list of 0s and 1s.\n",
    "    segment_ids = [0]*num_seg_a + [1]*num_seg_b\n",
    "\n",
    "    # There should be a segment_id for every input token.\n",
    "    assert len(segment_ids) == len(input_ids)\n",
    "\n",
    "    # ======== Evaluate ========\n",
    "    # Run our example through the model.\n",
    "    outputs = model(torch.tensor([input_ids]), # The tokens representing our input text.\n",
    "                    token_type_ids=torch.tensor([segment_ids]), # The segment IDs to differentiate question from answer_text\n",
    "                    return_dict=True) \n",
    "\n",
    "    start_scores = outputs.start_logits\n",
    "    end_scores = outputs.end_logits\n",
    "\n",
    "    # ======== Reconstruct Answer ========\n",
    "    # Find the tokens with the highest `start` and `end` scores.\n",
    "    answer_start = torch.argmax(start_scores)\n",
    "    answer_end = torch.argmax(end_scores)\n",
    "\n",
    "    # Get the string versions of the input tokens.\n",
    "    tokens = tokenizer.convert_ids_to_tokens(input_ids)\n",
    "\n",
    "    # Start with the first token.\n",
    "    answer = tokens[answer_start]\n",
    "\n",
    "    # Select the remaining answer tokens and join them with whitespace.\n",
    "    for i in range(answer_start + 1, answer_end + 1):\n",
    "        \n",
    "        # If it's a subword token, then recombine it with the previous token.\n",
    "        if tokens[i][0:2] == '##':\n",
    "            answer += tokens[i][2:]\n",
    "        \n",
    "        # Otherwise, add a space then the token.\n",
    "        else:\n",
    "            answer += ' ' + tokens[i]\n",
    "\n",
    "    print('Answer: \"' + answer + '\"')"
   ]
  },
  {
   "cell_type": "markdown",
   "metadata": {
    "id": "DVlKTK-njWrX"
   },
   "source": [
    "As our reference text, I've taken the Abstract of the [BERT paper](https://arxiv.org/pdf/1810.04805.pdf).\n"
   ]
  },
  {
   "cell_type": "code",
   "execution_count": null,
   "metadata": {
    "colab": {
     "base_uri": "https://localhost:8080/"
    },
    "id": "y4VPq6FdjxyX",
    "outputId": "cde3cea2-240a-433d-8de1-d77ecb8e7d1a"
   },
   "outputs": [
    {
     "name": "stdout",
     "output_type": "stream",
     "text": [
      "We introduce a new language representation model called BERT, which stands for\n",
      "Bidirectional Encoder Representations from Transformers. Unlike recent language\n",
      "representation models (Peters et al., 2018a; Radford et al., 2018), BERT is\n",
      "designed to pretrain deep bidirectional representations from unlabeled text by\n",
      "jointly conditioning on both left and right context in all layers. As a result,\n",
      "the pre-trained BERT model can be finetuned with just one additional output\n",
      "layer to create state-of-the-art models for a wide range of tasks, such as\n",
      "question answering and language inference, without substantial taskspecific\n",
      "architecture modifications. BERT is conceptually simple and empirically\n",
      "powerful. It obtains new state-of-the-art results on eleven natural language\n",
      "processing tasks, including pushing the GLUE score to 80.5% (7.7% point absolute\n",
      "improvement), MultiNLI accuracy to 86.7% (4.6% absolute improvement), SQuAD v1.1\n",
      "question answering Test F1 to 93.2 (1.5 point absolute improvement) and SQuAD\n",
      "v2.0 Test F1 to 83.1 (5.1 point absolute improvement).\n"
     ]
    }
   ],
   "source": [
    "import textwrap\n",
    "\n",
    "# Wrap text to 80 characters.\n",
    "wrapper = textwrap.TextWrapper(width=80) \n",
    "\n",
    "bert_abstract = \"We introduce a new language representation model called BERT, which stands for Bidirectional Encoder Representations from Transformers. Unlike recent language representation models (Peters et al., 2018a; Radford et al., 2018), BERT is designed to pretrain deep bidirectional representations from unlabeled text by jointly conditioning on both left and right context in all layers. As a result, the pre-trained BERT model can be finetuned with just one additional output layer to create state-of-the-art models for a wide range of tasks, such as question answering and language inference, without substantial taskspecific architecture modifications. BERT is conceptually simple and empirically powerful. It obtains new state-of-the-art results on eleven natural language processing tasks, including pushing the GLUE score to 80.5% (7.7% point absolute improvement), MultiNLI accuracy to 86.7% (4.6% absolute improvement), SQuAD v1.1 question answering Test F1 to 93.2 (1.5 point absolute improvement) and SQuAD v2.0 Test F1 to 83.1 (5.1 point absolute improvement).\"\n",
    "\n",
    "print(wrapper.fill(bert_abstract))"
   ]
  },
  {
   "cell_type": "markdown",
   "metadata": {
    "id": "tEB654YCknYv"
   },
   "source": [
    "-----------------------------\n",
    "Ask BERT what its name stands for (the answer is in the first sentence of the abstract)."
   ]
  },
  {
   "cell_type": "code",
   "execution_count": null,
   "metadata": {
    "colab": {
     "base_uri": "https://localhost:8080/"
    },
    "id": "wfntqRCBegGj",
    "outputId": "f747ee75-e69e-4b22-f3db-ba19e961376d"
   },
   "outputs": [
    {
     "name": "stdout",
     "output_type": "stream",
     "text": [
      "Query has 258 tokens.\n",
      "\n",
      "Answer: \"bidirectional encoder representations from transformers\"\n"
     ]
    }
   ],
   "source": [
    "question = \"What does the 'B' in BERT stand for?\"\n",
    "\n",
    "answer_question(question, bert_abstract)"
   ]
  },
  {
   "cell_type": "markdown",
   "metadata": {
    "id": "B6HcijzxkTO9"
   },
   "source": [
    "---------------------\n",
    "Ask BERT about example applications of itself :)\n",
    "\n",
    "The answer to the question comes from this passage from the abstract: \n",
    "\n",
    "> \"...BERT model can be finetuned with just one additional output\n",
    "layer to create state-of-the-art models for **a wide range of tasks, such as\n",
    "question answering and language inference,** without substantial taskspecific\n",
    "architecture modifications.\""
   ]
  },
  {
   "cell_type": "code",
   "execution_count": null,
   "metadata": {
    "colab": {
     "base_uri": "https://localhost:8080/"
    },
    "id": "MVNVGN5-gI06",
    "outputId": "a40dcc67-311f-4b53-9090-54a5f9570e80"
   },
   "outputs": [
    {
     "name": "stdout",
     "output_type": "stream",
     "text": [
      "Query has 255 tokens.\n",
      "\n",
      "Answer: \"question answering and language inference\"\n"
     ]
    }
   ],
   "source": [
    "question = \"What are some example applications of BERT?\"\n",
    "\n",
    "answer_question(question, bert_abstract)"
   ]
  },
  {
   "cell_type": "markdown",
   "metadata": {
    "id": "3oYTn16ZFujZ"
   },
   "source": [
    "**我只能说：Impressive！**"
   ]
  },
  {
   "cell_type": "code",
   "execution_count": null,
   "metadata": {
    "id": "bhAaTIyMDdys"
   },
   "outputs": [],
   "source": []
  }
 ],
 "metadata": {
  "accelerator": "GPU",
  "colab": {
   "collapsed_sections": [],
   "name": "Question Answering with a Fine-Tuned BERT (Chris McCormick直接采用预训练模型，效果惊人).ipynb",
   "provenance": []
  },
  "kernelspec": {
   "display_name": "Python 3",
   "language": "python",
   "name": "python3"
  },
  "language_info": {
   "codemirror_mode": {
    "name": "ipython",
    "version": 3
   },
   "file_extension": ".py",
   "mimetype": "text/x-python",
   "name": "python",
   "nbconvert_exporter": "python",
   "pygments_lexer": "ipython3",
   "version": "3.8.8"
  },
  "widgets": {
   "application/vnd.jupyter.widget-state+json": {
    "0790063edd2744a692cdcd1c4248e068": {
     "model_module": "@jupyter-widgets/controls",
     "model_module_version": "1.5.0",
     "model_name": "FloatProgressModel",
     "state": {
      "_dom_classes": [],
      "_model_module": "@jupyter-widgets/controls",
      "_model_module_version": "1.5.0",
      "_model_name": "FloatProgressModel",
      "_view_count": null,
      "_view_module": "@jupyter-widgets/controls",
      "_view_module_version": "1.5.0",
      "_view_name": "ProgressView",
      "bar_style": "success",
      "description": "Downloading: 100%",
      "description_tooltip": null,
      "layout": "IPY_MODEL_994172dd42614bc7880ffbf4578f014a",
      "max": 231508,
      "min": 0,
      "orientation": "horizontal",
      "style": "IPY_MODEL_943863977e324855a535c4458fb5da6c",
      "value": 231508
     }
    },
    "1726c3d1c6a2478fb34c7b5b58632502": {
     "model_module": "@jupyter-widgets/controls",
     "model_module_version": "1.5.0",
     "model_name": "FloatProgressModel",
     "state": {
      "_dom_classes": [],
      "_model_module": "@jupyter-widgets/controls",
      "_model_module_version": "1.5.0",
      "_model_name": "FloatProgressModel",
      "_view_count": null,
      "_view_module": "@jupyter-widgets/controls",
      "_view_module_version": "1.5.0",
      "_view_name": "ProgressView",
      "bar_style": "success",
      "description": "Downloading: 100%",
      "description_tooltip": null,
      "layout": "IPY_MODEL_26018ea4426c4701b8769964f5835cdc",
      "max": 1340675298,
      "min": 0,
      "orientation": "horizontal",
      "style": "IPY_MODEL_7655ffd950e74c41966112250ddfe77d",
      "value": 1340675298
     }
    },
    "26018ea4426c4701b8769964f5835cdc": {
     "model_module": "@jupyter-widgets/base",
     "model_module_version": "1.2.0",
     "model_name": "LayoutModel",
     "state": {
      "_model_module": "@jupyter-widgets/base",
      "_model_module_version": "1.2.0",
      "_model_name": "LayoutModel",
      "_view_count": null,
      "_view_module": "@jupyter-widgets/base",
      "_view_module_version": "1.2.0",
      "_view_name": "LayoutView",
      "align_content": null,
      "align_items": null,
      "align_self": null,
      "border": null,
      "bottom": null,
      "display": null,
      "flex": null,
      "flex_flow": null,
      "grid_area": null,
      "grid_auto_columns": null,
      "grid_auto_flow": null,
      "grid_auto_rows": null,
      "grid_column": null,
      "grid_gap": null,
      "grid_row": null,
      "grid_template_areas": null,
      "grid_template_columns": null,
      "grid_template_rows": null,
      "height": null,
      "justify_content": null,
      "justify_items": null,
      "left": null,
      "margin": null,
      "max_height": null,
      "max_width": null,
      "min_height": null,
      "min_width": null,
      "object_fit": null,
      "object_position": null,
      "order": null,
      "overflow": null,
      "overflow_x": null,
      "overflow_y": null,
      "padding": null,
      "right": null,
      "top": null,
      "visibility": null,
      "width": null
     }
    },
    "3427d12e769d42d9b07999d0d59c4a7b": {
     "model_module": "@jupyter-widgets/base",
     "model_module_version": "1.2.0",
     "model_name": "LayoutModel",
     "state": {
      "_model_module": "@jupyter-widgets/base",
      "_model_module_version": "1.2.0",
      "_model_name": "LayoutModel",
      "_view_count": null,
      "_view_module": "@jupyter-widgets/base",
      "_view_module_version": "1.2.0",
      "_view_name": "LayoutView",
      "align_content": null,
      "align_items": null,
      "align_self": null,
      "border": null,
      "bottom": null,
      "display": null,
      "flex": null,
      "flex_flow": null,
      "grid_area": null,
      "grid_auto_columns": null,
      "grid_auto_flow": null,
      "grid_auto_rows": null,
      "grid_column": null,
      "grid_gap": null,
      "grid_row": null,
      "grid_template_areas": null,
      "grid_template_columns": null,
      "grid_template_rows": null,
      "height": null,
      "justify_content": null,
      "justify_items": null,
      "left": null,
      "margin": null,
      "max_height": null,
      "max_width": null,
      "min_height": null,
      "min_width": null,
      "object_fit": null,
      "object_position": null,
      "order": null,
      "overflow": null,
      "overflow_x": null,
      "overflow_y": null,
      "padding": null,
      "right": null,
      "top": null,
      "visibility": null,
      "width": null
     }
    },
    "3862ef1ce10d4e10b6f2f0b943e98774": {
     "model_module": "@jupyter-widgets/controls",
     "model_module_version": "1.5.0",
     "model_name": "HTMLModel",
     "state": {
      "_dom_classes": [],
      "_model_module": "@jupyter-widgets/controls",
      "_model_module_version": "1.5.0",
      "_model_name": "HTMLModel",
      "_view_count": null,
      "_view_module": "@jupyter-widgets/controls",
      "_view_module_version": "1.5.0",
      "_view_name": "HTMLView",
      "description": "",
      "description_tooltip": null,
      "layout": "IPY_MODEL_9072e953775948229722c56a66797c2c",
      "placeholder": "​",
      "style": "IPY_MODEL_d6bcd7eb1e394b4ebedd34e7c684a93b",
      "value": " 232k/232k [00:00&lt;00:00, 3.02MB/s]"
     }
    },
    "38749123713341f88975aa88e99eb8bb": {
     "model_module": "@jupyter-widgets/controls",
     "model_module_version": "1.5.0",
     "model_name": "HTMLModel",
     "state": {
      "_dom_classes": [],
      "_model_module": "@jupyter-widgets/controls",
      "_model_module_version": "1.5.0",
      "_model_name": "HTMLModel",
      "_view_count": null,
      "_view_module": "@jupyter-widgets/controls",
      "_view_module_version": "1.5.0",
      "_view_name": "HTMLView",
      "description": "",
      "description_tooltip": null,
      "layout": "IPY_MODEL_3427d12e769d42d9b07999d0d59c4a7b",
      "placeholder": "​",
      "style": "IPY_MODEL_cdc78b351d624a1fa09168262adeb83e",
      "value": " 1.34G/1.34G [00:38&lt;00:00, 35.2MB/s]"
     }
    },
    "5cb660e45dde4c91945280a4a3a75a25": {
     "model_module": "@jupyter-widgets/controls",
     "model_module_version": "1.5.0",
     "model_name": "FloatProgressModel",
     "state": {
      "_dom_classes": [],
      "_model_module": "@jupyter-widgets/controls",
      "_model_module_version": "1.5.0",
      "_model_name": "FloatProgressModel",
      "_view_count": null,
      "_view_module": "@jupyter-widgets/controls",
      "_view_module_version": "1.5.0",
      "_view_name": "ProgressView",
      "bar_style": "success",
      "description": "Downloading: 100%",
      "description_tooltip": null,
      "layout": "IPY_MODEL_7688bbb14e034ee992ad0b760ceb439c",
      "max": 443,
      "min": 0,
      "orientation": "horizontal",
      "style": "IPY_MODEL_c1bb148ae16447609f1a0e84c63d1e9e",
      "value": 443
     }
    },
    "5f6df7274b1e4f6880479e575f1915ad": {
     "model_module": "@jupyter-widgets/controls",
     "model_module_version": "1.5.0",
     "model_name": "HTMLModel",
     "state": {
      "_dom_classes": [],
      "_model_module": "@jupyter-widgets/controls",
      "_model_module_version": "1.5.0",
      "_model_name": "HTMLModel",
      "_view_count": null,
      "_view_module": "@jupyter-widgets/controls",
      "_view_module_version": "1.5.0",
      "_view_name": "HTMLView",
      "description": "",
      "description_tooltip": null,
      "layout": "IPY_MODEL_ca1d71426a394788a480a8af280b9e3f",
      "placeholder": "​",
      "style": "IPY_MODEL_6032c60843eb4e1b8c0796ece4029d39",
      "value": " 443/443 [00:00&lt;00:00, 1.38kB/s]"
     }
    },
    "6032c60843eb4e1b8c0796ece4029d39": {
     "model_module": "@jupyter-widgets/controls",
     "model_module_version": "1.5.0",
     "model_name": "DescriptionStyleModel",
     "state": {
      "_model_module": "@jupyter-widgets/controls",
      "_model_module_version": "1.5.0",
      "_model_name": "DescriptionStyleModel",
      "_view_count": null,
      "_view_module": "@jupyter-widgets/base",
      "_view_module_version": "1.2.0",
      "_view_name": "StyleView",
      "description_width": ""
     }
    },
    "631860fe3c624c29bccbbd8462b8bf80": {
     "model_module": "@jupyter-widgets/base",
     "model_module_version": "1.2.0",
     "model_name": "LayoutModel",
     "state": {
      "_model_module": "@jupyter-widgets/base",
      "_model_module_version": "1.2.0",
      "_model_name": "LayoutModel",
      "_view_count": null,
      "_view_module": "@jupyter-widgets/base",
      "_view_module_version": "1.2.0",
      "_view_name": "LayoutView",
      "align_content": null,
      "align_items": null,
      "align_self": null,
      "border": null,
      "bottom": null,
      "display": null,
      "flex": null,
      "flex_flow": null,
      "grid_area": null,
      "grid_auto_columns": null,
      "grid_auto_flow": null,
      "grid_auto_rows": null,
      "grid_column": null,
      "grid_gap": null,
      "grid_row": null,
      "grid_template_areas": null,
      "grid_template_columns": null,
      "grid_template_rows": null,
      "height": null,
      "justify_content": null,
      "justify_items": null,
      "left": null,
      "margin": null,
      "max_height": null,
      "max_width": null,
      "min_height": null,
      "min_width": null,
      "object_fit": null,
      "object_position": null,
      "order": null,
      "overflow": null,
      "overflow_x": null,
      "overflow_y": null,
      "padding": null,
      "right": null,
      "top": null,
      "visibility": null,
      "width": null
     }
    },
    "7655ffd950e74c41966112250ddfe77d": {
     "model_module": "@jupyter-widgets/controls",
     "model_module_version": "1.5.0",
     "model_name": "ProgressStyleModel",
     "state": {
      "_model_module": "@jupyter-widgets/controls",
      "_model_module_version": "1.5.0",
      "_model_name": "ProgressStyleModel",
      "_view_count": null,
      "_view_module": "@jupyter-widgets/base",
      "_view_module_version": "1.2.0",
      "_view_name": "StyleView",
      "bar_color": null,
      "description_width": "initial"
     }
    },
    "7688bbb14e034ee992ad0b760ceb439c": {
     "model_module": "@jupyter-widgets/base",
     "model_module_version": "1.2.0",
     "model_name": "LayoutModel",
     "state": {
      "_model_module": "@jupyter-widgets/base",
      "_model_module_version": "1.2.0",
      "_model_name": "LayoutModel",
      "_view_count": null,
      "_view_module": "@jupyter-widgets/base",
      "_view_module_version": "1.2.0",
      "_view_name": "LayoutView",
      "align_content": null,
      "align_items": null,
      "align_self": null,
      "border": null,
      "bottom": null,
      "display": null,
      "flex": null,
      "flex_flow": null,
      "grid_area": null,
      "grid_auto_columns": null,
      "grid_auto_flow": null,
      "grid_auto_rows": null,
      "grid_column": null,
      "grid_gap": null,
      "grid_row": null,
      "grid_template_areas": null,
      "grid_template_columns": null,
      "grid_template_rows": null,
      "height": null,
      "justify_content": null,
      "justify_items": null,
      "left": null,
      "margin": null,
      "max_height": null,
      "max_width": null,
      "min_height": null,
      "min_width": null,
      "object_fit": null,
      "object_position": null,
      "order": null,
      "overflow": null,
      "overflow_x": null,
      "overflow_y": null,
      "padding": null,
      "right": null,
      "top": null,
      "visibility": null,
      "width": null
     }
    },
    "7e0febe6993f48ff9ea82406b26f32f1": {
     "model_module": "@jupyter-widgets/base",
     "model_module_version": "1.2.0",
     "model_name": "LayoutModel",
     "state": {
      "_model_module": "@jupyter-widgets/base",
      "_model_module_version": "1.2.0",
      "_model_name": "LayoutModel",
      "_view_count": null,
      "_view_module": "@jupyter-widgets/base",
      "_view_module_version": "1.2.0",
      "_view_name": "LayoutView",
      "align_content": null,
      "align_items": null,
      "align_self": null,
      "border": null,
      "bottom": null,
      "display": null,
      "flex": null,
      "flex_flow": null,
      "grid_area": null,
      "grid_auto_columns": null,
      "grid_auto_flow": null,
      "grid_auto_rows": null,
      "grid_column": null,
      "grid_gap": null,
      "grid_row": null,
      "grid_template_areas": null,
      "grid_template_columns": null,
      "grid_template_rows": null,
      "height": null,
      "justify_content": null,
      "justify_items": null,
      "left": null,
      "margin": null,
      "max_height": null,
      "max_width": null,
      "min_height": null,
      "min_width": null,
      "object_fit": null,
      "object_position": null,
      "order": null,
      "overflow": null,
      "overflow_x": null,
      "overflow_y": null,
      "padding": null,
      "right": null,
      "top": null,
      "visibility": null,
      "width": null
     }
    },
    "85d746ba7fee49c5b7f0fa7f210f57df": {
     "model_module": "@jupyter-widgets/controls",
     "model_module_version": "1.5.0",
     "model_name": "HBoxModel",
     "state": {
      "_dom_classes": [],
      "_model_module": "@jupyter-widgets/controls",
      "_model_module_version": "1.5.0",
      "_model_name": "HBoxModel",
      "_view_count": null,
      "_view_module": "@jupyter-widgets/controls",
      "_view_module_version": "1.5.0",
      "_view_name": "HBoxView",
      "box_style": "",
      "children": [
       "IPY_MODEL_5cb660e45dde4c91945280a4a3a75a25",
       "IPY_MODEL_5f6df7274b1e4f6880479e575f1915ad"
      ],
      "layout": "IPY_MODEL_631860fe3c624c29bccbbd8462b8bf80"
     }
    },
    "9072e953775948229722c56a66797c2c": {
     "model_module": "@jupyter-widgets/base",
     "model_module_version": "1.2.0",
     "model_name": "LayoutModel",
     "state": {
      "_model_module": "@jupyter-widgets/base",
      "_model_module_version": "1.2.0",
      "_model_name": "LayoutModel",
      "_view_count": null,
      "_view_module": "@jupyter-widgets/base",
      "_view_module_version": "1.2.0",
      "_view_name": "LayoutView",
      "align_content": null,
      "align_items": null,
      "align_self": null,
      "border": null,
      "bottom": null,
      "display": null,
      "flex": null,
      "flex_flow": null,
      "grid_area": null,
      "grid_auto_columns": null,
      "grid_auto_flow": null,
      "grid_auto_rows": null,
      "grid_column": null,
      "grid_gap": null,
      "grid_row": null,
      "grid_template_areas": null,
      "grid_template_columns": null,
      "grid_template_rows": null,
      "height": null,
      "justify_content": null,
      "justify_items": null,
      "left": null,
      "margin": null,
      "max_height": null,
      "max_width": null,
      "min_height": null,
      "min_width": null,
      "object_fit": null,
      "object_position": null,
      "order": null,
      "overflow": null,
      "overflow_x": null,
      "overflow_y": null,
      "padding": null,
      "right": null,
      "top": null,
      "visibility": null,
      "width": null
     }
    },
    "943863977e324855a535c4458fb5da6c": {
     "model_module": "@jupyter-widgets/controls",
     "model_module_version": "1.5.0",
     "model_name": "ProgressStyleModel",
     "state": {
      "_model_module": "@jupyter-widgets/controls",
      "_model_module_version": "1.5.0",
      "_model_name": "ProgressStyleModel",
      "_view_count": null,
      "_view_module": "@jupyter-widgets/base",
      "_view_module_version": "1.2.0",
      "_view_name": "StyleView",
      "bar_color": null,
      "description_width": "initial"
     }
    },
    "994172dd42614bc7880ffbf4578f014a": {
     "model_module": "@jupyter-widgets/base",
     "model_module_version": "1.2.0",
     "model_name": "LayoutModel",
     "state": {
      "_model_module": "@jupyter-widgets/base",
      "_model_module_version": "1.2.0",
      "_model_name": "LayoutModel",
      "_view_count": null,
      "_view_module": "@jupyter-widgets/base",
      "_view_module_version": "1.2.0",
      "_view_name": "LayoutView",
      "align_content": null,
      "align_items": null,
      "align_self": null,
      "border": null,
      "bottom": null,
      "display": null,
      "flex": null,
      "flex_flow": null,
      "grid_area": null,
      "grid_auto_columns": null,
      "grid_auto_flow": null,
      "grid_auto_rows": null,
      "grid_column": null,
      "grid_gap": null,
      "grid_row": null,
      "grid_template_areas": null,
      "grid_template_columns": null,
      "grid_template_rows": null,
      "height": null,
      "justify_content": null,
      "justify_items": null,
      "left": null,
      "margin": null,
      "max_height": null,
      "max_width": null,
      "min_height": null,
      "min_width": null,
      "object_fit": null,
      "object_position": null,
      "order": null,
      "overflow": null,
      "overflow_x": null,
      "overflow_y": null,
      "padding": null,
      "right": null,
      "top": null,
      "visibility": null,
      "width": null
     }
    },
    "c1bb148ae16447609f1a0e84c63d1e9e": {
     "model_module": "@jupyter-widgets/controls",
     "model_module_version": "1.5.0",
     "model_name": "ProgressStyleModel",
     "state": {
      "_model_module": "@jupyter-widgets/controls",
      "_model_module_version": "1.5.0",
      "_model_name": "ProgressStyleModel",
      "_view_count": null,
      "_view_module": "@jupyter-widgets/base",
      "_view_module_version": "1.2.0",
      "_view_name": "StyleView",
      "bar_color": null,
      "description_width": "initial"
     }
    },
    "ca1d71426a394788a480a8af280b9e3f": {
     "model_module": "@jupyter-widgets/base",
     "model_module_version": "1.2.0",
     "model_name": "LayoutModel",
     "state": {
      "_model_module": "@jupyter-widgets/base",
      "_model_module_version": "1.2.0",
      "_model_name": "LayoutModel",
      "_view_count": null,
      "_view_module": "@jupyter-widgets/base",
      "_view_module_version": "1.2.0",
      "_view_name": "LayoutView",
      "align_content": null,
      "align_items": null,
      "align_self": null,
      "border": null,
      "bottom": null,
      "display": null,
      "flex": null,
      "flex_flow": null,
      "grid_area": null,
      "grid_auto_columns": null,
      "grid_auto_flow": null,
      "grid_auto_rows": null,
      "grid_column": null,
      "grid_gap": null,
      "grid_row": null,
      "grid_template_areas": null,
      "grid_template_columns": null,
      "grid_template_rows": null,
      "height": null,
      "justify_content": null,
      "justify_items": null,
      "left": null,
      "margin": null,
      "max_height": null,
      "max_width": null,
      "min_height": null,
      "min_width": null,
      "object_fit": null,
      "object_position": null,
      "order": null,
      "overflow": null,
      "overflow_x": null,
      "overflow_y": null,
      "padding": null,
      "right": null,
      "top": null,
      "visibility": null,
      "width": null
     }
    },
    "cdc78b351d624a1fa09168262adeb83e": {
     "model_module": "@jupyter-widgets/controls",
     "model_module_version": "1.5.0",
     "model_name": "DescriptionStyleModel",
     "state": {
      "_model_module": "@jupyter-widgets/controls",
      "_model_module_version": "1.5.0",
      "_model_name": "DescriptionStyleModel",
      "_view_count": null,
      "_view_module": "@jupyter-widgets/base",
      "_view_module_version": "1.2.0",
      "_view_name": "StyleView",
      "description_width": ""
     }
    },
    "cee98629600e4045bed19495d764e414": {
     "model_module": "@jupyter-widgets/controls",
     "model_module_version": "1.5.0",
     "model_name": "HBoxModel",
     "state": {
      "_dom_classes": [],
      "_model_module": "@jupyter-widgets/controls",
      "_model_module_version": "1.5.0",
      "_model_name": "HBoxModel",
      "_view_count": null,
      "_view_module": "@jupyter-widgets/controls",
      "_view_module_version": "1.5.0",
      "_view_name": "HBoxView",
      "box_style": "",
      "children": [
       "IPY_MODEL_0790063edd2744a692cdcd1c4248e068",
       "IPY_MODEL_3862ef1ce10d4e10b6f2f0b943e98774"
      ],
      "layout": "IPY_MODEL_7e0febe6993f48ff9ea82406b26f32f1"
     }
    },
    "d6bcd7eb1e394b4ebedd34e7c684a93b": {
     "model_module": "@jupyter-widgets/controls",
     "model_module_version": "1.5.0",
     "model_name": "DescriptionStyleModel",
     "state": {
      "_model_module": "@jupyter-widgets/controls",
      "_model_module_version": "1.5.0",
      "_model_name": "DescriptionStyleModel",
      "_view_count": null,
      "_view_module": "@jupyter-widgets/base",
      "_view_module_version": "1.2.0",
      "_view_name": "StyleView",
      "description_width": ""
     }
    },
    "d727e021f0804427b0d4f5d8027e4044": {
     "model_module": "@jupyter-widgets/controls",
     "model_module_version": "1.5.0",
     "model_name": "HBoxModel",
     "state": {
      "_dom_classes": [],
      "_model_module": "@jupyter-widgets/controls",
      "_model_module_version": "1.5.0",
      "_model_name": "HBoxModel",
      "_view_count": null,
      "_view_module": "@jupyter-widgets/controls",
      "_view_module_version": "1.5.0",
      "_view_name": "HBoxView",
      "box_style": "",
      "children": [
       "IPY_MODEL_1726c3d1c6a2478fb34c7b5b58632502",
       "IPY_MODEL_38749123713341f88975aa88e99eb8bb"
      ],
      "layout": "IPY_MODEL_f7ce62a943c940ba972cc72bbc71fba9"
     }
    },
    "f7ce62a943c940ba972cc72bbc71fba9": {
     "model_module": "@jupyter-widgets/base",
     "model_module_version": "1.2.0",
     "model_name": "LayoutModel",
     "state": {
      "_model_module": "@jupyter-widgets/base",
      "_model_module_version": "1.2.0",
      "_model_name": "LayoutModel",
      "_view_count": null,
      "_view_module": "@jupyter-widgets/base",
      "_view_module_version": "1.2.0",
      "_view_name": "LayoutView",
      "align_content": null,
      "align_items": null,
      "align_self": null,
      "border": null,
      "bottom": null,
      "display": null,
      "flex": null,
      "flex_flow": null,
      "grid_area": null,
      "grid_auto_columns": null,
      "grid_auto_flow": null,
      "grid_auto_rows": null,
      "grid_column": null,
      "grid_gap": null,
      "grid_row": null,
      "grid_template_areas": null,
      "grid_template_columns": null,
      "grid_template_rows": null,
      "height": null,
      "justify_content": null,
      "justify_items": null,
      "left": null,
      "margin": null,
      "max_height": null,
      "max_width": null,
      "min_height": null,
      "min_width": null,
      "object_fit": null,
      "object_position": null,
      "order": null,
      "overflow": null,
      "overflow_x": null,
      "overflow_y": null,
      "padding": null,
      "right": null,
      "top": null,
      "visibility": null,
      "width": null
     }
    }
   }
  }
 },
 "nbformat": 4,
 "nbformat_minor": 1
}
